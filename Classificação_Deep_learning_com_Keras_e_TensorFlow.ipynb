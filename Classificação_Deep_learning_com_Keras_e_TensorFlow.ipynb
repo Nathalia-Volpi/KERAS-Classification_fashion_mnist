{
  "nbformat": 4,
  "nbformat_minor": 0,
  "metadata": {
    "colab": {
      "provenance": [],
      "toc_visible": true,
      "authorship_tag": "ABX9TyPYNpeVSSurFnwEH9smALZz"
    },
    "kernelspec": {
      "name": "python3",
      "display_name": "Python 3"
    },
    "language_info": {
      "name": "python"
    }
  },
  "cells": [
    {
      "cell_type": "markdown",
      "source": [
        "#Imports"
      ],
      "metadata": {
        "id": "dcDNlMfh55-1"
      }
    },
    {
      "cell_type": "code",
      "source": [
        "import tensorflow\n",
        "from tensorflow import keras"
      ],
      "metadata": {
        "id": "AVU9GVMakb6O"
      },
      "execution_count": null,
      "outputs": []
    },
    {
      "cell_type": "code",
      "source": [
        "import matplotlib.pyplot as plt\n",
        "import numpy as np"
      ],
      "metadata": {
        "id": "HQN9f7xLmt4C"
      },
      "execution_count": null,
      "outputs": []
    },
    {
      "cell_type": "markdown",
      "source": [
        "#Dataset"
      ],
      "metadata": {
        "id": "N_SfSHp158bO"
      }
    },
    {
      "cell_type": "code",
      "source": [
        "dataset = keras.datasets.fashion_mnist\n",
        "((imagens_treino, identificacoes_treino),(imagens_test, identificacoes_test))=dataset.load_data()"
      ],
      "metadata": {
        "id": "eHVxMczGkoW6"
      },
      "execution_count": null,
      "outputs": []
    },
    {
      "cell_type": "markdown",
      "source": [
        "#Explorando os dados"
      ],
      "metadata": {
        "id": "vm8piQQL5-lV"
      }
    },
    {
      "cell_type": "code",
      "execution_count": null,
      "metadata": {
        "colab": {
          "base_uri": "https://localhost:8080/"
        },
        "id": "8Fj9ucEujiUM",
        "outputId": "4cd64e6d-8903-485b-e35c-64552de2ca8b"
      },
      "outputs": [
        {
          "output_type": "execute_result",
          "data": {
            "text/plain": [
              "(60000, 28, 28)"
            ]
          },
          "metadata": {},
          "execution_count": 4
        }
      ],
      "source": [
        "len(imagens_treino)\n",
        "imagens_treino.shape\n"
      ]
    },
    {
      "cell_type": "code",
      "source": [
        "imagens_test.shape"
      ],
      "metadata": {
        "colab": {
          "base_uri": "https://localhost:8080/"
        },
        "id": "PNXV5ErvkcGV",
        "outputId": "f0f7b17c-81e8-46da-8ac2-e01c24c45269"
      },
      "execution_count": null,
      "outputs": [
        {
          "output_type": "execute_result",
          "data": {
            "text/plain": [
              "(10000, 28, 28)"
            ]
          },
          "metadata": {},
          "execution_count": 5
        }
      ]
    },
    {
      "cell_type": "code",
      "source": [
        "len(identificacoes_treino)"
      ],
      "metadata": {
        "colab": {
          "base_uri": "https://localhost:8080/"
        },
        "id": "rlbWKi87mk-6",
        "outputId": "255dde64-4975-47dd-d259-8d5e61938619"
      },
      "execution_count": null,
      "outputs": [
        {
          "output_type": "execute_result",
          "data": {
            "text/plain": [
              "60000"
            ]
          },
          "metadata": {},
          "execution_count": 6
        }
      ]
    },
    {
      "cell_type": "code",
      "source": [
        "len(identificacoes_test)"
      ],
      "metadata": {
        "colab": {
          "base_uri": "https://localhost:8080/"
        },
        "id": "2yZK9aEXmsvp",
        "outputId": "047abca4-49ec-4084-85ce-79faad3e86b6"
      },
      "execution_count": null,
      "outputs": [
        {
          "output_type": "execute_result",
          "data": {
            "text/plain": [
              "10000"
            ]
          },
          "metadata": {},
          "execution_count": 7
        }
      ]
    },
    {
      "cell_type": "code",
      "source": [
        "identificacoes_treino.min()\n",
        "identificacoes_treino.max()\n",
        "\n"
      ],
      "metadata": {
        "colab": {
          "base_uri": "https://localhost:8080/"
        },
        "id": "3uvXfpErmwTc",
        "outputId": "5501689d-10c4-4b1f-d84f-17399e401b8f"
      },
      "execution_count": null,
      "outputs": [
        {
          "output_type": "execute_result",
          "data": {
            "text/plain": [
              "9"
            ]
          },
          "metadata": {},
          "execution_count": 8
        }
      ]
    },
    {
      "cell_type": "markdown",
      "source": [
        "# Visualizando os dados"
      ],
      "metadata": {
        "id": "CDHAKPvr6D7N"
      }
    },
    {
      "cell_type": "code",
      "source": [
        "\n",
        "total_de_classificacoes = 10\n",
        "nomes_de_classificacoes= ['Camiseta','Calça', 'Pullover',' Vestido','Casaco','Sandália','Saia','Tenis','Bolsa','Bota']"
      ],
      "metadata": {
        "id": "cPsykWTw6DLi"
      },
      "execution_count": null,
      "outputs": []
    },
    {
      "cell_type": "code",
      "source": [
        "'''plt.imshow(imagens_treino[0])\n",
        "plt.title(identificacoes_treino[0])\n",
        "for imagem in range(10):\n",
        "  plt.subplot(2,5,imagem+1)\n",
        "  plt.imshow(imagens_treino [imagem])\n",
        "  plt.title(nomes_de_classificacoes[identificacoes_treino[imagem]])'''\n",
        "\n",
        "plt.imshow(imagens_treino[0])\n",
        "plt.colorbar()"
      ],
      "metadata": {
        "colab": {
          "base_uri": "https://localhost:8080/",
          "height": 447
        },
        "id": "GnHTlPPxm0g5",
        "outputId": "b025b2e3-26fc-4ed3-90d0-d96ea203fd1c"
      },
      "execution_count": null,
      "outputs": [
        {
          "output_type": "execute_result",
          "data": {
            "text/plain": [
              "<matplotlib.colorbar.Colorbar at 0x7ac1e79c7e80>"
            ]
          },
          "metadata": {},
          "execution_count": 10
        },
        {
          "output_type": "display_data",
          "data": {
            "text/plain": [
              "<Figure size 640x480 with 2 Axes>"
            ],
            "image/png": "[encoded data removed]"
          },
          "metadata": {}
        }
      ]
    },
    {
      "cell_type": "markdown",
      "source": [
        "# Criando o nosso modelo"
      ],
      "metadata": {
        "id": "9ftEVlEV6m61"
      }
    },
    {
      "cell_type": "code",
      "source": [
        "#Modelo duas camadas ou multicamada\n",
        "#Modelo = keras.Sequential([keras.layers.Flatten(input_shape =(28,28)), keras.layers.Dense(256,activation = tensorflow.nn.relu), keras.layers.Dense(10, activation=tensorflow.nn.softmax)])\n",
        "#Modelo.compile(optimizer= 'adam',loss='sparse_categorical_crossentropy')\n",
        "#Modelo.fit(imagens_treino,identificacoes_treino)"
      ],
      "metadata": {
        "id": "hEDPSTGz3cxW"
      },
      "execution_count": null,
      "outputs": []
    },
    {
      "cell_type": "code",
      "source": [
        "# from scipy import ndimage - biblioteca para lidar com imagens e ajustar para preparar o dataset\n"
      ],
      "metadata": {
        "id": "0tIH6_Hm7_L0"
      },
      "execution_count": null,
      "outputs": []
    },
    {
      "cell_type": "markdown",
      "source": [
        "## Otimizando o modelo"
      ],
      "metadata": {
        "id": "4ESVYmRAbcSx"
      }
    },
    {
      "cell_type": "code",
      "source": [
        "imagens_treino = imagens_treino/float(255) # Normalização dos dados"
      ],
      "metadata": {
        "id": "PsOCwJTVc81o"
      },
      "execution_count": null,
      "outputs": []
    },
    {
      "cell_type": "markdown",
      "source": [
        "##Criação, compilação, treinamento e normalização do modelo"
      ],
      "metadata": {
        "id": "5YjeiX81sLV9"
      }
    },
    {
      "cell_type": "code",
      "source": [
        "\n",
        "Modelo = keras.Sequential([keras.layers.Flatten(input_shape =(28,28)),\n",
        "                           keras.layers.Dense(256,activation = tensorflow.nn.relu),\n",
        "                           keras.layers.Dropout(0.2),\n",
        "                           keras.layers.Dense(10, activation=tensorflow.nn.softmax)])\n",
        "adam = keras.optimizers.Adam(lr=0.002)\n",
        "callbacks = [keras.callbacks.EarlyStopping(monitor='val_loss'), keras.callbacks.ModelCheckpoint(filepath='Melhormodelo.hdf5',monitor='val_loss',save_best_only=True)]\n",
        "Modelo.compile(optimizer= adam,\n",
        "               loss='sparse_categorical_crossentropy',\n",
        "               metrics=['accuracy'])\n",
        "historico = Modelo.fit(imagens_treino,identificacoes_treino, batch_size = 500, epochs = 10, validation_split=0.2, callbacks = callbacks)\n"
      ],
      "metadata": {
        "colab": {
          "base_uri": "https://localhost:8080/"
        },
        "id": "xTmmUqeo8i4x",
        "outputId": "3cee0e66-6ec6-492b-9b22-f18b35f320f0"
      },
      "execution_count": null,
      "outputs": [
        {
          "output_type": "stream",
          "name": "stderr",
          "text": [
            "WARNING:absl:`lr` is deprecated in Keras optimizer, please use `learning_rate` or use the legacy optimizer, e.g.,tf.keras.optimizers.legacy.Adam.\n"
          ]
        },
        {
          "output_type": "stream",
          "name": "stdout",
          "text": [
            "Epoch 1/10\n",
            "96/96 [==============================] - 4s 31ms/step - loss: 0.7322 - accuracy: 0.7474 - val_loss: 0.4966 - val_accuracy: 0.8298\n",
            "Epoch 2/10\n",
            " 8/96 [=>............................] - ETA: 1s - loss: 0.5021 - accuracy: 0.8250"
          ]
        },
        {
          "output_type": "stream",
          "name": "stderr",
          "text": [
            "/usr/local/lib/python3.10/dist-packages/keras/src/engine/training.py:3000: UserWarning: You are saving your model as an HDF5 file via `model.save()`. This file format is considered legacy. We recommend using instead the native Keras format, e.g. `model.save('my_model.keras')`.\n",
            "  saving_api.save_model(\n"
          ]
        },
        {
          "output_type": "stream",
          "name": "stdout",
          "text": [
            "96/96 [==============================] - 2s 17ms/step - loss: 0.4794 - accuracy: 0.8341 - val_loss: 0.4434 - val_accuracy: 0.8423\n",
            "Epoch 3/10\n",
            "96/96 [==============================] - 2s 16ms/step - loss: 0.4255 - accuracy: 0.8523 - val_loss: 0.4020 - val_accuracy: 0.8573\n",
            "Epoch 4/10\n",
            "96/96 [==============================] - 2s 23ms/step - loss: 0.3964 - accuracy: 0.8607 - val_loss: 0.3814 - val_accuracy: 0.8659\n",
            "Epoch 5/10\n",
            "96/96 [==============================] - 2s 19ms/step - loss: 0.3699 - accuracy: 0.8699 - val_loss: 0.3641 - val_accuracy: 0.8706\n",
            "Epoch 6/10\n",
            "96/96 [==============================] - 2s 18ms/step - loss: 0.3525 - accuracy: 0.8740 - val_loss: 0.3682 - val_accuracy: 0.8689\n"
          ]
        }
      ]
    },
    {
      "cell_type": "markdown",
      "source": [
        "## Entendendo o modelo"
      ],
      "metadata": {
        "id": "YXeVe-JM2OOn"
      }
    },
    {
      "cell_type": "code",
      "source": [
        "Sumario_modelo = Modelo.summary()"
      ],
      "metadata": {
        "id": "Z9xjUXQPwrKr",
        "outputId": "9bc1e298-720a-4ef0-d118-bef1146d22ca",
        "colab": {
          "base_uri": "https://localhost:8080/"
        }
      },
      "execution_count": null,
      "outputs": [
        {
          "output_type": "stream",
          "name": "stdout",
          "text": [
            "Model: \"sequential\"\n",
            "_________________________________________________________________\n",
            " Layer (type)                Output Shape              Param #   \n",
            "=================================================================\n",
            " flatten (Flatten)           (None, 784)               0         \n",
            "                                                                 \n",
            " dense (Dense)               (None, 256)               200960    \n",
            "                                                                 \n",
            " dropout (Dropout)           (None, 256)               0         \n",
            "                                                                 \n",
            " dense_1 (Dense)             (None, 10)                2570      \n",
            "                                                                 \n",
            "=================================================================\n",
            "Total params: 203530 (795.04 KB)\n",
            "Trainable params: 203530 (795.04 KB)\n",
            "Non-trainable params: 0 (0.00 Byte)\n",
            "_________________________________________________________________\n"
          ]
        }
      ]
    },
    {
      "cell_type": "code",
      "source": [
        "Pesos_camada_dense = Modelo.layers[1].get_weights()[0]"
      ],
      "metadata": {
        "id": "XHJGxN9Sx0F1"
      },
      "execution_count": null,
      "outputs": []
    },
    {
      "cell_type": "code",
      "source": [
        "Pesos_camada_dense.shape"
      ],
      "metadata": {
        "id": "3RkakZeq0AfV",
        "outputId": "07b5d86c-caa1-4676-e40a-8c4ef9ff030f",
        "colab": {
          "base_uri": "https://localhost:8080/"
        }
      },
      "execution_count": null,
      "outputs": [
        {
          "output_type": "execute_result",
          "data": {
            "text/plain": [
              "(784, 256)"
            ]
          },
          "metadata": {},
          "execution_count": 17
        }
      ]
    },
    {
      "cell_type": "code",
      "source": [
        "#pesos_camada_dense_zerado = np.zeros((784, 256))\n",
        "#Modelo.layers[1].set_weights([pesos_camada_dense_zerado,Vieses_camada_dense])\n",
        "#Zerar garante a simetria dos dados o que não é bom para o treinamento."
      ],
      "metadata": {
        "id": "I4stE7ks0IKM"
      },
      "execution_count": null,
      "outputs": []
    },
    {
      "cell_type": "code",
      "source": [
        "#pesos_camada_dense_aleatorio = np.random.rand(784, 256)\n",
        "#Modelo.layers[1].set_weights([pesos_camada_dense_aleatorio, Vieses_camada_dense])\n",
        "#Valores aleatorios pode ter valor muito fora e não é ideal\n"
      ],
      "metadata": {
        "id": "SdZcGHsQ11w6"
      },
      "execution_count": null,
      "outputs": []
    },
    {
      "cell_type": "code",
      "source": [
        "Modelo.layers[1].get_weights()"
      ],
      "metadata": {
        "id": "FT3hM9A201DN",
        "outputId": "466d18a2-c71e-4ad2-c050-08343b49bbe9",
        "colab": {
          "base_uri": "https://localhost:8080/"
        }
      },
      "execution_count": null,
      "outputs": [
        {
          "output_type": "execute_result",
          "data": {
            "text/plain": [
              "[array([[-0.05438245, -0.00841517,  0.00152568, ..., -0.01415631,\n",
              "          0.00325735,  0.04445187],\n",
              "        [-0.05139117, -0.10443459,  0.00214391, ...,  0.06753777,\n",
              "          0.08130372,  0.02367079],\n",
              "        [-0.1048638 ,  0.00640154, -0.04201626, ..., -0.05601018,\n",
              "          0.09322802, -0.0441025 ],\n",
              "        ...,\n",
              "        [-0.01541063,  0.09100796,  0.00941003, ...,  0.04159097,\n",
              "          0.09781422,  0.08674166],\n",
              "        [-0.01102837, -0.05820109, -0.05255435, ...,  0.02054017,\n",
              "          0.04279783,  0.00159183],\n",
              "        [ 0.00729467,  0.0054379 ,  0.01401492, ...,  0.04498946,\n",
              "          0.00426722, -0.02418842]], dtype=float32),\n",
              " array([-0.0189014 ,  0.13029946, -0.01467214,  0.1099031 , -0.00749104,\n",
              "        -0.01425566, -0.10543275,  0.10655225, -0.10147015,  0.01547799,\n",
              "         0.04713303,  0.1418428 , -0.02350614, -0.01631836,  0.025244  ,\n",
              "         0.10562034,  0.08350363, -0.04421399, -0.04501231,  0.04623799,\n",
              "        -0.0959061 ,  0.08185151,  0.14832643,  0.00233464,  0.00843751,\n",
              "         0.12510635,  0.09660476, -0.06233635, -0.01341403, -0.08175025,\n",
              "        -0.00884132,  0.01237507,  0.07471988,  0.10058181, -0.01624495,\n",
              "         0.07724386,  0.02977634,  0.03642219,  0.04089098,  0.10926428,\n",
              "         0.01846649,  0.09787108,  0.10508851, -0.12282625,  0.06424879,\n",
              "        -0.10835347,  0.11983833, -0.13169666,  0.01445383,  0.05327689,\n",
              "         0.01900669,  0.14080542, -0.06167018,  0.1120581 ,  0.0834322 ,\n",
              "         0.09096816,  0.04267119,  0.12817615,  0.10046573,  0.00847217,\n",
              "         0.0588998 , -0.01228217, -0.10843965,  0.01270712, -0.01259216,\n",
              "        -0.00282988,  0.08574563,  0.06110543, -0.06942849,  0.05338671,\n",
              "         0.03323532,  0.121643  ,  0.00706557,  0.13397107,  0.00968034,\n",
              "        -0.02437536, -0.05317961, -0.00461291,  0.01182947,  0.06929856,\n",
              "         0.07249042, -0.02175123,  0.0207827 ,  0.08862396,  0.10978992,\n",
              "        -0.05297386, -0.06900867,  0.0911548 ,  0.02207262,  0.06261363,\n",
              "        -0.0096089 ,  0.04915102,  0.01115494,  0.00366723,  0.04453169,\n",
              "         0.08903962, -0.12055255,  0.06769256,  0.07686105,  0.1365162 ,\n",
              "        -0.00396055, -0.06718782,  0.00100111, -0.01457031,  0.02973235,\n",
              "         0.09231976, -0.01198061, -0.03131515,  0.03635457,  0.11156728,\n",
              "         0.16956463, -0.08766036,  0.09284925, -0.04687437, -0.01220819,\n",
              "        -0.0100376 ,  0.00788665,  0.13323642,  0.1089794 ,  0.03651791,\n",
              "        -0.00809857,  0.08900023,  0.04731965, -0.01059166,  0.11498451,\n",
              "         0.1039086 ,  0.03037652,  0.040032  , -0.08317158,  0.08932712,\n",
              "        -0.00705649, -0.0103375 ,  0.11479821,  0.07500792,  0.10151424,\n",
              "         0.14195855,  0.02195384,  0.08562794, -0.01430047, -0.03146613,\n",
              "         0.08726872, -0.00600583, -0.04645408,  0.00401791,  0.14141409,\n",
              "         0.14416395, -0.00861371, -0.01116068,  0.09959954, -0.04020786,\n",
              "         0.05093876, -0.04321372, -0.0274672 ,  0.17020483, -0.0298257 ,\n",
              "         0.04491719, -0.00358204,  0.05059909, -0.00768901, -0.04969934,\n",
              "         0.09452403, -0.01458524,  0.14926323,  0.14425148,  0.09854729,\n",
              "         0.04671158, -0.01595049,  0.01565238,  0.05771542, -0.01027208,\n",
              "        -0.01447789,  0.0388094 ,  0.018474  ,  0.1665587 ,  0.10251354,\n",
              "         0.11162438,  0.15115353, -0.03308517,  0.12822242,  0.24257235,\n",
              "         0.00478382,  0.02817732, -0.00794202,  0.05107779,  0.07753838,\n",
              "         0.06187104,  0.08763   ,  0.05149472,  0.00118023,  0.00719281,\n",
              "         0.15062042,  0.04612239, -0.03295058, -0.07257964, -0.10278337,\n",
              "        -0.05802766,  0.05510648, -0.02048399,  0.15441936,  0.0939578 ,\n",
              "        -0.01253584,  0.17374258,  0.09649308, -0.01016337,  0.00773024,\n",
              "        -0.04952196,  0.07654287,  0.05511061,  0.11628246,  0.06542367,\n",
              "         0.06527289,  0.07652397, -0.0648009 ,  0.1317965 , -0.01040912,\n",
              "         0.04058856, -0.08621087, -0.0126048 , -0.1043028 , -0.01046029,\n",
              "        -0.00541782, -0.00973339,  0.00571921,  0.05460472,  0.13068858,\n",
              "         0.07823089, -0.09454128, -0.02600984,  0.06993878,  0.01522839,\n",
              "        -0.01073562,  0.01315904,  0.10114316,  0.07959946, -0.01401196,\n",
              "         0.02979512, -0.0149452 ,  0.01101938,  0.0138155 ,  0.02239286,\n",
              "         0.03984882, -0.04432938,  0.00976576, -0.11068479, -0.00892194,\n",
              "        -0.0489682 , -0.00780355,  0.10220999, -0.04685076,  0.11328936,\n",
              "        -0.00390893, -0.04370492, -0.00791098,  0.07999633,  0.08712264,\n",
              "         0.06437272], dtype=float32)]"
            ]
          },
          "metadata": {},
          "execution_count": 20
        }
      ]
    },
    {
      "cell_type": "code",
      "source": [
        "Modelo.get_config()"
      ],
      "metadata": {
        "id": "I4nukJoH2vc4",
        "outputId": "52699b25-ae97-41fb-978b-33a70f7d78f1",
        "colab": {
          "base_uri": "https://localhost:8080/"
        }
      },
      "execution_count": null,
      "outputs": [
        {
          "output_type": "execute_result",
          "data": {
            "text/plain": [
              "{'name': 'sequential',\n",
              " 'layers': [{'module': 'keras.layers',\n",
              "   'class_name': 'InputLayer',\n",
              "   'config': {'batch_input_shape': (None, 28, 28),\n",
              "    'dtype': 'float32',\n",
              "    'sparse': False,\n",
              "    'ragged': False,\n",
              "    'name': 'flatten_input'},\n",
              "   'registered_name': None},\n",
              "  {'module': 'keras.layers',\n",
              "   'class_name': 'Flatten',\n",
              "   'config': {'name': 'flatten',\n",
              "    'trainable': True,\n",
              "    'dtype': 'float32',\n",
              "    'batch_input_shape': (None, 28, 28),\n",
              "    'data_format': 'channels_last'},\n",
              "   'registered_name': None,\n",
              "   'build_config': {'input_shape': (None, 28, 28)}},\n",
              "  {'module': 'keras.layers',\n",
              "   'class_name': 'Dense',\n",
              "   'config': {'name': 'dense',\n",
              "    'trainable': True,\n",
              "    'dtype': 'float32',\n",
              "    'units': 256,\n",
              "    'activation': 'relu',\n",
              "    'use_bias': True,\n",
              "    'kernel_initializer': {'module': 'keras.initializers',\n",
              "     'class_name': 'GlorotUniform',\n",
              "     'config': {'seed': None},\n",
              "     'registered_name': None},\n",
              "    'bias_initializer': {'module': 'keras.initializers',\n",
              "     'class_name': 'Zeros',\n",
              "     'config': {},\n",
              "     'registered_name': None},\n",
              "    'kernel_regularizer': None,\n",
              "    'bias_regularizer': None,\n",
              "    'activity_regularizer': None,\n",
              "    'kernel_constraint': None,\n",
              "    'bias_constraint': None},\n",
              "   'registered_name': None,\n",
              "   'build_config': {'input_shape': (None, 784)}},\n",
              "  {'module': 'keras.layers',\n",
              "   'class_name': 'Dropout',\n",
              "   'config': {'name': 'dropout',\n",
              "    'trainable': True,\n",
              "    'dtype': 'float32',\n",
              "    'rate': 0.2,\n",
              "    'noise_shape': None,\n",
              "    'seed': None},\n",
              "   'registered_name': None,\n",
              "   'build_config': {'input_shape': (None, 256)}},\n",
              "  {'module': 'keras.layers',\n",
              "   'class_name': 'Dense',\n",
              "   'config': {'name': 'dense_1',\n",
              "    'trainable': True,\n",
              "    'dtype': 'float32',\n",
              "    'units': 10,\n",
              "    'activation': 'softmax',\n",
              "    'use_bias': True,\n",
              "    'kernel_initializer': {'module': 'keras.initializers',\n",
              "     'class_name': 'GlorotUniform',\n",
              "     'config': {'seed': None},\n",
              "     'registered_name': None},\n",
              "    'bias_initializer': {'module': 'keras.initializers',\n",
              "     'class_name': 'Zeros',\n",
              "     'config': {},\n",
              "     'registered_name': None},\n",
              "    'kernel_regularizer': None,\n",
              "    'bias_regularizer': None,\n",
              "    'activity_regularizer': None,\n",
              "    'kernel_constraint': None,\n",
              "    'bias_constraint': None},\n",
              "   'registered_name': None,\n",
              "   'build_config': {'input_shape': (None, 256)}}]}"
            ]
          },
          "metadata": {},
          "execution_count": 21
        }
      ]
    },
    {
      "cell_type": "code",
      "source": [
        "Modelo.compile(optimizer= 'adam',\n",
        "               loss='sparse_categorical_crossentropy',\n",
        "               metrics=['accuracy'])\n",
        "historico = Modelo.fit(imagens_treino,identificacoes_treino, epochs = 5, validation_split=0.2)"
      ],
      "metadata": {
        "id": "dCRJjyuZ0-NU",
        "outputId": "64110780-0674-4b81-aa54-0f7f9cf8268a",
        "colab": {
          "base_uri": "https://localhost:8080/"
        }
      },
      "execution_count": null,
      "outputs": [
        {
          "output_type": "stream",
          "name": "stdout",
          "text": [
            "Epoch 1/5\n",
            "1500/1500 [==============================] - 12s 7ms/step - loss: 0.4083 - accuracy: 0.8530 - val_loss: 0.3712 - val_accuracy: 0.8706\n",
            "Epoch 2/5\n",
            "1500/1500 [==============================] - 18s 12ms/step - loss: 0.3672 - accuracy: 0.8666 - val_loss: 0.3847 - val_accuracy: 0.8593\n",
            "Epoch 3/5\n",
            "1500/1500 [==============================] - 20s 13ms/step - loss: 0.3450 - accuracy: 0.8733 - val_loss: 0.3479 - val_accuracy: 0.8743\n",
            "Epoch 4/5\n",
            "1500/1500 [==============================] - 12s 8ms/step - loss: 0.3264 - accuracy: 0.8788 - val_loss: 0.3444 - val_accuracy: 0.8730\n",
            "Epoch 5/5\n",
            "1500/1500 [==============================] - 10s 7ms/step - loss: 0.3116 - accuracy: 0.8857 - val_loss: 0.3423 - val_accuracy: 0.8789\n"
          ]
        }
      ]
    },
    {
      "cell_type": "code",
      "source": [
        "plt.plot(historico.history['accuracy'])\n",
        "plt.plot(historico.history['val_accuracy'])\n",
        "plt.title('Acurácia por épocas')\n",
        "plt.xlabel('Épocas')\n",
        "plt.ylabel('Acurácia')\n",
        "plt.legend(['treino','validação'])"
      ],
      "metadata": {
        "id": "ewZ3lF241V0l",
        "outputId": "fac0c315-0ea9-4cd0-e879-388aa8a4d8c9",
        "colab": {
          "base_uri": "https://localhost:8080/",
          "height": 491
        }
      },
      "execution_count": null,
      "outputs": [
        {
          "output_type": "execute_result",
          "data": {
            "text/plain": [
              "<matplotlib.legend.Legend at 0x7ac1cb116b90>"
            ]
          },
          "metadata": {},
          "execution_count": 23
        },
        {
          "output_type": "display_data",
          "data": {
            "text/plain": [
              "<Figure size 640x480 with 1 Axes>"
            ],
            "image/png": "[encoded data removed]"
          },
          "metadata": {}
        }
      ]
    },
    {
      "cell_type": "code",
      "source": [
        "Vieses_camada_dense = Modelo.layers[1].get_weights()[1]"
      ],
      "metadata": {
        "id": "lqzVb9MhzVZr"
      },
      "execution_count": null,
      "outputs": []
    },
    {
      "cell_type": "code",
      "source": [
        "#vieses_camada_dense_zerado = np.zeros(256)\n",
        "#Modelo.layers[1].set_weights([Pesos_camada_dense, vieses_camada_dense_zerado])\n",
        "#Zerar os vieses é menos grave do que os Pesos, o Keras inicia com vieses zerados."
      ],
      "metadata": {
        "id": "CQ12lHCI35B1"
      },
      "execution_count": null,
      "outputs": []
    },
    {
      "cell_type": "markdown",
      "source": [
        "##Salvando o modelo treinado"
      ],
      "metadata": {
        "id": "UaH69NZWsTmK"
      }
    },
    {
      "cell_type": "code",
      "source": [
        "\n",
        "from tensorflow.keras.models import load_model\n",
        "\n",
        "Modelo.save('modelo.h5')\n",
        "Modelo_salvo = load_model('modelo.h5')"
      ],
      "metadata": {
        "colab": {
          "base_uri": "https://localhost:8080/"
        },
        "id": "JfAyrCmDpJcu",
        "outputId": "61376f00-64c7-42e6-b464-1c045d028f15"
      },
      "execution_count": null,
      "outputs": [
        {
          "output_type": "stream",
          "name": "stderr",
          "text": [
            "/usr/local/lib/python3.10/dist-packages/keras/src/engine/training.py:3000: UserWarning: You are saving your model as an HDF5 file via `model.save()`. This file format is considered legacy. We recommend using instead the native Keras format, e.g. `model.save('my_model.keras')`.\n",
            "  saving_api.save_model(\n"
          ]
        }
      ]
    },
    {
      "cell_type": "markdown",
      "source": [
        "## Plotando os dados de acurácia e perda por época"
      ],
      "metadata": {
        "id": "7pDozyjVsYu2"
      }
    },
    {
      "cell_type": "code",
      "source": [
        "plt.plot(historico.history['accuracy'])\n",
        "plt.plot(historico.history['val_accuracy'])\n",
        "plt.title('Acurácia por épocas')\n",
        "plt.xlabel('Épocas')\n",
        "plt.ylabel('Acurácia')\n",
        "plt.legend(['treino','validação'])\n"
      ],
      "metadata": {
        "colab": {
          "base_uri": "https://localhost:8080/",
          "height": 491
        },
        "id": "gygwX54yhk1T",
        "outputId": "a68166ac-6bdc-4883-c050-101c87804e0c"
      },
      "execution_count": null,
      "outputs": [
        {
          "output_type": "execute_result",
          "data": {
            "text/plain": [
              "<matplotlib.legend.Legend at 0x7ac1caf77fa0>"
            ]
          },
          "metadata": {},
          "execution_count": 27
        },
        {
          "output_type": "display_data",
          "data": {
            "text/plain": [
              "<Figure size 640x480 with 1 Axes>"
            ],
            "image/png": "[encoded data removed]"
          },
          "metadata": {}
        }
      ]
    },
    {
      "cell_type": "code",
      "source": [
        "#Adicionar camadas ocultas não necessariamente melhoram o modelo\n",
        "#Modelo = keras.Sequential([keras.layers.Flatten(input_shape =(28,28)), keras.layers.Dense(256,activation = tensorflow.nn.relu),keras.layers.Dense(24, activation=tensorflow.nn.relu), keras.layers.Dense(10, activation=tensorflow.nn.softmax)])\n",
        "#Modelo.compile(optimizer= 'adam',loss='sparse_categorical_crossentropy')\n",
        "#Modelo.fit(imagens_treino,identificacoes_treino)"
      ],
      "metadata": {
        "id": "TAw2W0JjcoSZ"
      },
      "execution_count": null,
      "outputs": []
    },
    {
      "cell_type": "code",
      "source": [
        "plt.plot(historico.history['loss'])\n",
        "plt.plot(historico.history['val_loss'])\n",
        "plt.title('Perda por épocas')\n",
        "plt.xlabel('Épocas')\n",
        "plt.ylabel('Perda')\n",
        "plt.legend(['treino','validação'])"
      ],
      "metadata": {
        "colab": {
          "base_uri": "https://localhost:8080/",
          "height": 491
        },
        "id": "28Ae51xfmXW4",
        "outputId": "4c6a580f-1600-49f6-b8a7-dabc58b9e039"
      },
      "execution_count": null,
      "outputs": [
        {
          "output_type": "execute_result",
          "data": {
            "text/plain": [
              "<matplotlib.legend.Legend at 0x7ac1caf94bb0>"
            ]
          },
          "metadata": {},
          "execution_count": 29
        },
        {
          "output_type": "display_data",
          "data": {
            "text/plain": [
              "<Figure size 640x480 with 1 Axes>"
            ],
            "image/png": "[encoded data removed]"
          },
          "metadata": {}
        }
      ]
    },
    {
      "cell_type": "markdown",
      "source": [
        "#Testando o modelo"
      ],
      "metadata": {
        "id": "Dlf8CAWjfxYc"
      }
    },
    {
      "cell_type": "code",
      "source": [
        "testes= Modelo.predict(imagens_test)\n",
        "print('resultado teste:', np.argmax(testes[1]))\n",
        "print('número da imagem de teste', identificacoes_test[1])\n"
      ],
      "metadata": {
        "colab": {
          "base_uri": "https://localhost:8080/"
        },
        "id": "8rAB8HX0druk",
        "outputId": "e9f1ce4f-140c-410c-f770-026228875b8c"
      },
      "execution_count": null,
      "outputs": [
        {
          "output_type": "stream",
          "name": "stdout",
          "text": [
            "313/313 [==============================] - 1s 3ms/step\n",
            "resultado teste: 2\n",
            "número da imagem de teste 2\n"
          ]
        }
      ]
    },
    {
      "cell_type": "code",
      "source": [
        "#Avaliação\n",
        "perda_teste, acuracia_teste = Modelo.evaluate(imagens_test,identificacoes_test)\n",
        "print('Perda do teste:', perda_teste, 'Acurácia do teste:', acuracia_teste)"
      ],
      "metadata": {
        "colab": {
          "base_uri": "https://localhost:8080/"
        },
        "id": "vQVPKz2vf-Fa",
        "outputId": "563afd18-d8e3-43a9-f74f-605b6b8a76d4"
      },
      "execution_count": null,
      "outputs": [
        {
          "output_type": "stream",
          "name": "stdout",
          "text": [
            "313/313 [==============================] - 1s 3ms/step - loss: 58.0872 - accuracy: 0.8625\n",
            "Perda do teste: 58.08722686767578 Acurácia do teste: 0.862500011920929\n"
          ]
        }
      ]
    },
    {
      "cell_type": "code",
      "source": [
        "testes_modelo_salvo = Modelo_salvo.predict(imagens_test)\n",
        "print('resultado teste modelo salvo:', np.argmax(testes_modelo_salvo[1]))\n",
        "print('número da imagem de teste:', identificacoes_test[1])"
      ],
      "metadata": {
        "colab": {
          "base_uri": "https://localhost:8080/"
        },
        "id": "Wp2V6u7FgpGr",
        "outputId": "9a3fdf65-4d3b-4e0c-ab4f-5a26144efcc2"
      },
      "execution_count": null,
      "outputs": [
        {
          "output_type": "stream",
          "name": "stdout",
          "text": [
            "313/313 [==============================] - 1s 3ms/step\n",
            "resultado teste modelo salvo: 2\n",
            "número da imagem de teste: 2\n"
          ]
        }
      ]
    },
    {
      "cell_type": "markdown",
      "source": [
        "#Avaliando o modelo"
      ],
      "metadata": {
        "id": "8HXOyys0svgI"
      }
    },
    {
      "cell_type": "code",
      "source": [
        "perda_teste, acuracia_teste = Modelo_salvo.evaluate(imagens_test, identificacoes_test)\n",
        "print('Perda do teste:', perda_teste)\n",
        "print('Acurácia do teste:', acuracia_teste)"
      ],
      "metadata": {
        "colab": {
          "base_uri": "https://localhost:8080/"
        },
        "id": "ilFJswXLpkhy",
        "outputId": "6def248d-8b2b-4264-b370-4aba61370496"
      },
      "execution_count": null,
      "outputs": [
        {
          "output_type": "stream",
          "name": "stdout",
          "text": [
            "313/313 [==============================] - 1s 3ms/step - loss: 58.0872 - accuracy: 0.8625\n",
            "Perda do teste: 58.08722686767578\n",
            "Acurácia do teste: 0.862500011920929\n"
          ]
        }
      ]
    },
    {
      "cell_type": "code",
      "source": [],
      "metadata": {
        "id": "YNfSOcrKpwIW"
      },
      "execution_count": null,
      "outputs": []
    }
  ]
}